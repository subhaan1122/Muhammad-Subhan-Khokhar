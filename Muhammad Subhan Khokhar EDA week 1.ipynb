{
 "cells": [
  {
   "cell_type": "markdown",
   "id": "34766241",
   "metadata": {},
   "source": [
    "#### NumPy program to create an array of all even integers from 30 to 70.\n",
    "\n"
   ]
  },
  {
   "cell_type": "code",
   "execution_count": 1,
   "id": "2e5ae8bd",
   "metadata": {},
   "outputs": [
    {
     "name": "stdout",
     "output_type": "stream",
     "text": [
      "[30 32 34 36 38 40 42 44 46 48 50 52 54 56 58 60 62 64 66 68 70]\n"
     ]
    }
   ],
   "source": [
    "import numpy as np\n",
    "even_arr = np.arange(30, 71, 2)\n",
    "print(even_arr)\n"
   ]
  },
  {
   "cell_type": "markdown",
   "id": "5b3911b2",
   "metadata": {},
   "source": [
    "####  NumPy program to generate an array of 15 random numbers from a standard normal distribution.\n"
   ]
  },
  {
   "cell_type": "code",
   "execution_count": 4,
   "id": "02b97756",
   "metadata": {},
   "outputs": [
    {
     "name": "stdout",
     "output_type": "stream",
     "text": [
      "[-2.15041579  1.12312375 -0.82011768  1.02717148  1.90655279  0.39082727\n",
      "  0.08821119  0.06127325 -1.2706435  -0.9443814   0.09100636  0.60410915\n",
      " -0.67223878  0.56572513  0.81699515]\n"
     ]
    }
   ],
   "source": [
    "import numpy as np\n",
    "rndm_arr = np.random.randn(15)\n",
    "print(rndm_arr)\n"
   ]
  },
  {
   "cell_type": "markdown",
   "id": "1214092c",
   "metadata": {},
   "source": [
    "#### Cross-product of two matrices in NumPy."
   ]
  },
  {
   "cell_type": "markdown",
   "id": "c0204175",
   "metadata": {},
   "source": [
    "Cross product does not exist in matrices."
   ]
  },
  {
   "cell_type": "markdown",
   "id": "3af3b1c7",
   "metadata": {},
   "source": [
    "#### Determinant of an array using NumPy."
   ]
  },
  {
   "cell_type": "code",
   "execution_count": 9,
   "id": "7f318065",
   "metadata": {
    "scrolled": true
   },
   "outputs": [
    {
     "name": "stdout",
     "output_type": "stream",
     "text": [
      "Determinant of the array is:\n",
      "0.0\n"
     ]
    }
   ],
   "source": [
    "import numpy as np\n",
    "a = np.array([[1, 2], [1, 2]])\n",
    "determinant = np.linalg.det(a)\n",
    "print(\"Determinant of the array is:\")\n",
    "print(determinant)\n"
   ]
  },
  {
   "cell_type": "markdown",
   "id": "7a272aa1",
   "metadata": {},
   "source": [
    "#### Create a 3x3x3 array with random values using NumPy."
   ]
  },
  {
   "cell_type": "code",
   "execution_count": 8,
   "id": "b097a73d",
   "metadata": {},
   "outputs": [
    {
     "name": "stdout",
     "output_type": "stream",
     "text": [
      "[[[0.40073921 0.03513492 0.41363785]\n",
      "  [0.72424736 0.60040061 0.96453728]\n",
      "  [0.85488887 0.83604093 0.01642988]]\n",
      "\n",
      " [[0.47413269 0.25414091 0.66513417]\n",
      "  [0.76672779 0.67099213 0.02397116]\n",
      "  [0.14630396 0.86107877 0.66746465]]\n",
      "\n",
      " [[0.72060292 0.16732855 0.07312606]\n",
      "  [0.55546146 0.34713969 0.73768744]\n",
      "  [0.68490231 0.32504876 0.66765722]]]\n"
     ]
    }
   ],
   "source": [
    "import numpy as np\n",
    "rand_3d_array = np.random.rand(3, 3, 3)\n",
    "print(rand_3d_array)\n"
   ]
  },
  {
   "cell_type": "markdown",
   "id": "c1625ff6",
   "metadata": {},
   "source": [
    "####  Create a 5x5 array with random values and find the minimum and maximum values using NumPy."
   ]
  },
  {
   "cell_type": "code",
   "execution_count": 12,
   "id": "6205a1d0",
   "metadata": {},
   "outputs": [
    {
     "name": "stdout",
     "output_type": "stream",
     "text": [
      "[[0.66717547 0.89893795 0.34824509 0.15051528 0.99980988]\n",
      " [0.29251535 0.05650452 0.48215234 0.80905132 0.50145594]\n",
      " [0.03279808 0.67871949 0.88535078 0.62866184 0.11270063]\n",
      " [0.99020858 0.43594506 0.10554616 0.97280028 0.85599711]\n",
      " [0.05409464 0.22665102 0.39540856 0.54979314 0.91552781]]\n",
      "\n",
      "Minimum value is: 0.032798084373017566\n",
      "Maximum value is: 0.999809876760772\n"
     ]
    }
   ],
   "source": [
    "import numpy as np\n",
    "random_5x5_array = np.random.rand(5, 5)\n",
    "min_val = np.min(random_5x5_array)\n",
    "max_val = np.max(random_5x5_array)\n",
    "\n",
    "print(random_5x5_array)\n",
    "print(\"\\nMinimum value is:\", min_val)\n",
    "print(\"Maximum value is:\", max_val)\n"
   ]
  },
  {
   "cell_type": "markdown",
   "id": "ceafed47",
   "metadata": {},
   "source": [
    "####  Mean, standard deviation, and variance of a given array along the second axis in NumPy."
   ]
  },
  {
   "cell_type": "code",
   "execution_count": 13,
   "id": "3b8fe6a4",
   "metadata": {},
   "outputs": [
    {
     "name": "stdout",
     "output_type": "stream",
     "text": [
      "Mean along the second axis is: [2. 5. 8.]\n",
      "Standard deviation along the second axis is : [0.81649658 0.81649658 0.81649658]\n",
      "Variance along the second axis is : [0.66666667 0.66666667 0.66666667]\n"
     ]
    }
   ],
   "source": [
    "import numpy as np\n",
    "arr = np.array([[1, 2, 3],\n",
    "                [4, 5, 6],\n",
    "                [7, 8, 9]])\n",
    "\n",
    "mean = np.mean(arr, axis=1)\n",
    "dev = np.std(arr, axis=1)\n",
    "variance = np.var(arr, axis=1)\n",
    "\n",
    "print(\"Mean along the second axis is:\", mean)\n",
    "print(\"Standard deviation along the second axis is :\", dev)\n",
    "print(\"Variance along the second axis is :\", variance)\n"
   ]
  }
 ],
 "metadata": {
  "kernelspec": {
   "display_name": "Python 3 (ipykernel)",
   "language": "python",
   "name": "python3"
  },
  "language_info": {
   "codemirror_mode": {
    "name": "ipython",
    "version": 3
   },
   "file_extension": ".py",
   "mimetype": "text/x-python",
   "name": "python",
   "nbconvert_exporter": "python",
   "pygments_lexer": "ipython3",
   "version": "3.11.5"
  }
 },
 "nbformat": 4,
 "nbformat_minor": 5
}
